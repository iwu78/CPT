{
 "cells": [
  {
   "cell_type": "markdown",
   "metadata": {},
   "source": [
    "---\n",
    "toc: false\n",
    "comments: true\n",
    "layout: post\n",
    "title: Team Teach - Full Stack and User Profile With Commentary\n",
    "description: CRUD backend and frontend, Authentication\n",
    "type: hacks\n",
    "courses: { compsci: {week: 19} }\n",
    "---"
   ]
  },
  {
   "cell_type": "markdown",
   "metadata": {},
   "source": [
    "# CRUD\n",
    "\n",
    "## What is CRUD?\n",
    "\n",
    "CRUD stands for:\n",
    "\n",
    "C-reate: Involves the creation of addition of data to a database. In essence, it \"create\"s entries in databases.\n",
    "\n",
    "R-ead: Involves the retrieval, querying, or \"read\"ing of existing data from a database.\n",
    "\n",
    "U-pdate: Involves the modification or \"update\"ing of existing data in a database. Operation of changing the values of specific fields in a system. \n",
    "\n",
    "D-elete: Involves the removal or \"delete\"ion of existing data from a database. It's the operation of eliminating information from a database.\n",
    "\n",
    "In the past, each function has had its own link to fetch from, but with CRUD all four functions will be under one link, differentiated by the request type most suited for it.\n",
    "Create: POST request, as create operation needs to sent data back to the backend, best suited by post request\n",
    "Read: GET request, as read operation is simple and requires no data to be sent back\n",
    "Update: PUT request, as update requires the user ID of the user being updated, and this can be modified in the URL which PUT requests allow\n",
    "Delete: DELETE request, self explanatory\n",
    "This is simpler and makes fetching less confusing, as everything is done under one link. "
   ]
  },
  {
   "cell_type": "markdown",
   "metadata": {},
   "source": [
    "## Authentication\n",
    "- How users will authenticate to be able to access function that require a token\n",
    "- POST request is sent to backend\n",
    "    - payload contains user ID and password\n",
    "- Backend compares user ID and password, and returns with token if successful\n",
    "- Note that authentication and authorization are two different things\n",
    "    - Authentication is identifying who you are, client saying hi to backend\n",
    "    - Authorization is getting permission to view something, website letting client know that they can view something\n",
    "\n"
   ]
  },
  {
   "cell_type": "markdown",
   "metadata": {},
   "source": [
    "#### Frontend\n",
    "\n",
    "- This section of the frontend(the code below) will mainly be the connection between frontend and backend in which the frontend calls to the api endpoint in the backend for acsess to database and to perform different CRUD operations\n"
   ]
  },
  {
   "cell_type": "code",
   "execution_count": null,
   "metadata": {
    "vscode": {
     "languageId": "javascript"
    }
   },
   "outputs": [],
   "source": [
    "function login_user(){\n",
    "    // Set Authenticate endpoint\n",
    "    const url = 'http://127.0.0.1:8086/api/users/authenticate';\n",
    "\n",
    "    // Set the body of the request to include login data from the DOM\n",
    "    const body = {\n",
    "        uid: document.getElementById(\"uid\").value,\n",
    "        password: document.getElementById(\"password\").value,\n",
    "    };\n",
    "\n",
    "    // Change options according to Authentication requirements\n",
    "    const authOptions = {\n",
    "        mode: 'cors', // no-cors, *cors, same-origin\n",
    "        credentials: 'include', // include, same-origin, omit\n",
    "        headers: {\n",
    "            'Content-Type': 'application/json',\n",
    "        },\n",
    "        method: 'POST', // Override the method property\n",
    "        cache: 'no-cache', // Set the cache property\n",
    "        body: JSON.stringify(body)\n",
    "    };\n",
    "\n",
    "    // Fetch JWT\n",
    "    fetch(url, authOptions)\n",
    "    .then(response => {\n",
    "        // handle error response from Web API\n",
    "        if (!response.ok) {\n",
    "            const errorMsg = 'Login error: ' + response.status;\n",
    "            console.log(errorMsg);\n",
    "            alert(\"Failed Authentication: Credentials Incorrect\")\n",
    "            return;\n",
    "        }\n",
    "        // Success!!!\n",
    "        // Redirect to the database page\n",
    "        window.location.href = \"/csp-blog//log/2024/01/30/Users.html\";\n",
    "    })\n",
    "    // catch fetch errors (ie ACCESS to server blocked)\n",
    "    .catch(err => {\n",
    "        console.error(err);\n",
    "    });\n",
    "}\n",
    "\n",
    "// Attach login_user to the window object, allowing access to form action\n",
    "window.login_user = login_user;"
   ]
  },
  {
   "cell_type": "markdown",
   "metadata": {},
   "source": [
    "### Line(s) by Line tutotorial explanation of code above\n",
    "\n"
   ]
  },
  {
   "cell_type": "code",
   "execution_count": null,
   "metadata": {
    "vscode": {
     "languageId": "javascript"
    }
   },
   "outputs": [],
   "source": [
    "function login_user(){\n",
    "    // Set Authenticate endpoint\n",
    "    const url = 'http://127.0.0.1:8086/api/users/authenticate';\n",
    "\n",
    "    // Set the body of the request to include login data from the DOM\n",
    "    const body = {\n",
    "        uid: document.getElementById(\"uid\").value,\n",
    "        password: document.getElementById(\"password\").value,\n",
    "    };\n",
    "    "
   ]
  },
  {
   "cell_type": "markdown",
   "metadata": {
    "vscode": {
     "languageId": "javascript"
    }
   },
   "source": [
    "These are the first few lines and heres what they do:\n",
    "\n",
    "- First it defines the function as login_user and this is the login button function essentially that is called through your markdown/html code\n",
    "\n",
    "- The const url is set to be the authenticate URL, which you used in Postman(with this url we will be logged in and obtain a cookie, which will ensure we will have all the acsess we need to things such as a datatable of all users)\n",
    "    \n",
    "- Afterward in the const body variable we see uid: the document.getElementbyID and also the same for password. These 2 lines are just acsessing the text entered in our markdown/html textbox. "
   ]
  },
  {
   "cell_type": "code",
   "execution_count": null,
   "metadata": {
    "vscode": {
     "languageId": "javascript"
    }
   },
   "outputs": [],
   "source": [
    "const authOptions = {\n",
    "        mode: 'cors', // no-cors, *cors, same-origin\n",
    "        credentials: 'include', // include, same-origin, omit\n",
    "        headers: {\n",
    "            'Content-Type': 'application/json',\n",
    "        },\n",
    "        method: 'POST', // Override the method property\n",
    "        cache: 'no-cache', // Set the cache property\n",
    "        body: JSON.stringify(body)\n",
    "    };"
   ]
  },
  {
   "cell_type": "markdown",
   "metadata": {},
   "source": [
    "Here are the next few lines and what they do:\n",
    "\n",
    "- It defines a variable called auth options\n",
    "\n",
    "- Some important things to note in here is the \"method:\" in the middle of this segment and we can see it's post(the reason it is post is because we use 'post' method for authentication as we need to make a cookie)\n",
    "\n",
    "- Another thing we can notice is the \"body: JSON.stringify(body)\", which will also add the JSON data to the variable(the json data is things such as uid/password)"
   ]
  },
  {
   "cell_type": "code",
   "execution_count": null,
   "metadata": {
    "vscode": {
     "languageId": "javascript"
    }
   },
   "outputs": [],
   "source": [
    "fetch(url, authOptions)\n",
    "    .then(response => {\n",
    "        // handle error response from Web API\n",
    "        if (!response.ok) {\n",
    "            const errorMsg = 'Login error: ' + response.status;\n",
    "            console.log(errorMsg);\n",
    "            alert(\"Failed Authentication: Credentials Incorrect\")\n",
    "            return;\n",
    "        }\n",
    "        // Success!!!\n",
    "        // Redirect to the database page\n",
    "        window.location.href = \"/csp-blog//log/2024/01/30/Users.html\";\n",
    "    })\n",
    "    // catch fetch errors (ie ACCESS to server blocked)\n",
    "    .catch(err => {\n",
    "        console.error(err);\n",
    "    });"
   ]
  },
  {
   "cell_type": "markdown",
   "metadata": {},
   "source": [
    "In these lines we actually use the variables defined previously in the functions:\n",
    "\n",
    "- We use the url and authoptions variables to finally fetch the data from the backend and add to it too\n",
    "\n",
    "- In the if statement we notice it says !reponse.ok and this essentially will make sure no errors and if there is one it will log it to console\n",
    "\n",
    "- After the if statement(so this means no errors) the window.location.href is equal to a specific link and this will essentially navigate the user to the datatable page(the datatable will have a list of all users), but note we can also change this to navigate to any page we want"
   ]
  },
  {
   "cell_type": "markdown",
   "metadata": {},
   "source": [
    "## Backend "
   ]
  },
  {
   "cell_type": "code",
   "execution_count": null,
   "metadata": {},
   "outputs": [],
   "source": [
    "from werkzeug.security import generate_password_hash, check_password_hash\n",
    "# update password, this is conventional setter\n",
    "def set_password(self, password):\n",
    "    \"\"\"Create a hashed password.\"\"\"\n",
    "    self._password = generate_password_hash(password, \"pbkdf2:sha256\", salt_length=10)\n",
    "\n",
    "# check password parameter versus stored/encrypted password\n",
    "def is_password(self, password):\n",
    "    \"\"\"Check against hashed password.\"\"\"\n",
    "    result = check_password_hash(self._password, password)\n",
    "    return result"
   ]
  },
  {
   "cell_type": "markdown",
   "metadata": {},
   "source": [
    "In these lines here we are encrypting the password into the database so if anyone obtains acsess they will not be able to login to other users account or hack them. "
   ]
  },
  {
   "cell_type": "code",
   "execution_count": null,
   "metadata": {},
   "outputs": [],
   "source": [
    "def post(self, current_user): # Create method\n",
    "            ''' Read data for json body '''\n",
    "            body = request.get_json()\n",
    "            \n",
    "            ''' Avoid garbage in, error checking '''\n",
    "            # validate name\n",
    "            name = body.get('name')\n",
    "            if name is None or len(name) < 2:\n",
    "                return {'message': f'Name is missing, or is less than 2 characters'}, 400\n",
    "            # validate uid\n",
    "            uid = body.get('uid')\n",
    "            if uid is None or len(uid) < 2:\n",
    "                return {'message': f'User ID is missing, or is less than 2 characters'}, 400\n",
    "            # look for password\n",
    "            password = body.get('password')\n",
    "\n",
    "            active_classes = body.get('active_classes')\n",
    "            if active_classes is None or len(active_classes) == 0:\n",
    "                return {'message': 'Active class is missing'}, 400\n",
    "\n",
    "            archived_classes = body.get('archived_classes')\n",
    "\n",
    "            ''' #1: Key code block, setup USER OBJECT '''\n",
    "            uo = User(name=name, \n",
    "                      uid=uid,\n",
    "                      active_classes=active_classes,\n",
    "                      archived_classes=archived_classes)\n",
    "            \n",
    "            ''' Additional garbage error checking '''\n",
    "            # set password if provided\n",
    "            if password is not None:\n",
    "                uo.set_password(password)\n",
    "            # set server request status    \n",
    "            uo.server_needed = body.get('server_needed')\n",
    "            \n",
    "            ''' #2: Key Code block to add user to database '''\n",
    "            # create user in database\n",
    "            user = uo.create()\n",
    "            # success returns json of user\n",
    "            if user:\n",
    "                return jsonify(user.read())\n",
    "            # failure returns error\n",
    "            return {'message': f'Processed {name}, either a format error or User ID {uid} is duplicate'}, 400"
   ]
  },
  {
   "cell_type": "markdown",
   "metadata": {},
   "source": [
    "- This is the post method or the create method and what it does is add users to the database. This method is vital for activities in websites such as creating an account. In the line uo=User(name=name,uid,active_classes,archieved_classes=archieved_classes), we can see the user being created through its specializec class. "
   ]
  },
  {
   "cell_type": "markdown",
   "metadata": {},
   "source": [
    "## Read\n",
    "#### Frontend\n",
    "This example read code sends a GET request to the backend. Note that read doesn't necessarily mean returning the entire database, but simply reading already existing information from the database. Note that the javaScript below creates a table with the retrieved information but other things can be done with it."
   ]
  },
  {
   "cell_type": "code",
   "execution_count": null,
   "metadata": {
    "vscode": {
     "languageId": "javascript"
    }
   },
   "outputs": [],
   "source": [
    "// uri variable and options object are obtained from config.js\n",
    "  import { uri, options } from '/teacher_portfolio/assets/js/api/config.js';\n",
    "\n",
    "  // Set Users endpoint (list of users)\n",
    "  const url = uri + '/api/users/';\n",
    "\n",
    "  // prepare HTML result container for new output\n",
    "  const resultContainer = document.getElementById(\"result\");\n",
    "\n",
    "  // fetch the API\n",
    "  fetch(url, options)\n",
    "    // response is a RESTful \"promise\" on any successful fetch\n",
    "    .then(response => {\n",
    "      // check for response errors and display\n",
    "      if (response.status !== 200) {\n",
    "          const errorMsg = 'Database response error: ' + response.status;\n",
    "          console.log(errorMsg);\n",
    "          const tr = document.createElement(\"tr\");\n",
    "          const td = document.createElement(\"td\");\n",
    "          td.innerHTML = errorMsg;\n",
    "          tr.appendChild(td);\n",
    "          resultContainer.appendChild(tr);\n",
    "          return;\n",
    "      }\n",
    "      // valid response will contain JSON data\n",
    "      response.json().then(data => {\n",
    "          console.log(data);\n",
    "          for (const row of data) {\n",
    "            // tr and td build out for each row\n",
    "            const tr = document.createElement(\"tr\");\n",
    "            const name = document.createElement(\"td\");\n",
    "            const id = document.createElement(\"td\");\n",
    "            const age = document.createElement(\"td\");\n",
    "            // data is specific to the API\n",
    "            name.innerHTML = row.name; \n",
    "            id.innerHTML = row.uid; \n",
    "            age.innerHTML = row.age; \n",
    "            // this builds td's into tr\n",
    "            tr.appendChild(name);\n",
    "            tr.appendChild(id);\n",
    "            tr.appendChild(age);\n",
    "            // append the row to table\n",
    "            resultContainer.appendChild(tr);\n",
    "          }\n",
    "      })\n",
    "  })\n",
    "  // catch fetch errors (ie ACCESS to server blocked)\n",
    "  .catch(err => {\n",
    "    console.error(err);\n",
    "    const tr = document.createElement(\"tr\");\n",
    "    const td = document.createElement(\"td\");\n",
    "    td.innerHTML = err + \": \" + url;\n",
    "    tr.appendChild(td);\n",
    "    resultContainer.appendChild(tr);\n",
    "  });"
   ]
  },
  {
   "cell_type": "markdown",
   "metadata": {},
   "source": [
    "## Analysis of the Code above\n",
    "\n",
    "- In this javascript code we are obtaining all of the information from the database using the R-Read method or the get method from the backend and with this we are able to make a table of all the user ids similar to the one on the nighthawkcoders teacher website. in the fet(uril,option) it is similar to the previous javascript code but instead the options defined seems to use an imported definition. In the fetch of data, we can see in the valid response that we define four variables, which is the actual empty row, the names, the ids, and finally the ages. We then after setting each of these variables add it to the row, which is then added to the table. With this code we are able to visualize the whole database in an easy table format. \n",
    "\n",
    "\n",
    "\n"
   ]
  },
  {
   "cell_type": "markdown",
   "metadata": {},
   "source": [
    "#### Backend\n",
    "The below code returns all users from the database in as JSON when fetched."
   ]
  },
  {
   "cell_type": "code",
   "execution_count": null,
   "metadata": {},
   "outputs": [],
   "source": [
    "@token_required\n",
    "def get(self, current_user): # Read Method\n",
    "    users = User.query.all()    # read/extract all users from database\n",
    "    json_ready = [user.read() for user in users]  # prepare output in json\n",
    "    return jsonify(json_ready)  # jsonify creates Flask response object, more specific to APIs than json.dumps"
   ]
  },
  {
   "cell_type": "markdown",
   "metadata": {},
   "source": [
    "## Analysis\n",
    "\n",
    "This code segment is extremely short but in the code above we can see the get method being defined. Above the actual function defining, we can see the @token_required, which means that it will require the user to be logged in if they want to view the data from the database. In the actual code, we obtain all users from the database and format it in jSON so it can be returned to the frontend and be easily visualized. "
   ]
  },
  {
   "cell_type": "markdown",
   "metadata": {},
   "source": [
    "## Put\n",
    "#### Frontend\n",
    "The following code sends a put request to backend to update a user based on the user's UID."
   ]
  },
  {
   "cell_type": "code",
   "execution_count": null,
   "metadata": {
    "vscode": {
     "languageId": "javascript"
    }
   },
   "outputs": [],
   "source": [
    "function update_user(){\n",
    "      if (document.getElementById(\"password\").value != document.getElementById(\"confirmpassword\").value) {\n",
    "        alert(\"Error: Passwords do not match.\");\n",
    "        return;\n",
    "      }\n",
    "      const body = {\n",
    "        uid: document.getElementById(\"uid\").value,\n",
    "        password: document.getElementById(\"password\").value,\n",
    "        name: document.getElementById(\"name\").value,\n",
    "      };\n",
    "      const AuthOptions = {\n",
    "                  mode: 'cors', // no-cors, *cors, same-origin\n",
    "                  credentials: 'include', // include, same-origin, omit\n",
    "                  headers: {\n",
    "                      'Content-Type': 'application/json',\n",
    "                  },\n",
    "                  method: 'PUT', // Override the method property\n",
    "                  cache: 'no-cache', // Set the cache property\n",
    "                  body: JSON.stringify(body)\n",
    "              };\n",
    "        // fetch the API\n",
    "        fetch(url, AuthOptions)\n",
    "          // response is a RESTful \"promise\" on any successful fetch\n",
    "          .then(response => {\n",
    "            // check for response errors and display\n",
    "            if (response.status !== 200) {\n",
    "                window.location.href = \"/csp-blog/403.html\";\n",
    "            }\n",
    "            // valid response will contain JSON data\n",
    "            response.json().then(data => {\n",
    "              // insert whatever code you want here\n",
    "            })\n",
    "        })\n",
    "        // catch fetch errors (ie ACCESS to server blocked)\n",
    "        .catch(err => {\n",
    "          console.log(err)\n",
    "        });\n",
    "    }\n",
    "    // Attach login_user to the window object, allowing access to form action\n",
    "    window.update_user = update_user;"
   ]
  },
  {
   "cell_type": "markdown",
   "metadata": {},
   "source": [
    "## Analysis of the code above\n",
    "\n",
    "For an overview of the code above, it is a javascript function, which updates user information and user profile. \n",
    "\n",
    "We first start out by ensuring that an changes are password-protected so the user must enter their password to make any changes to their profile. We then define the body variable, which has the entered UID, Password, and name of the profile. The next Authoptions variables is another thing we have seen before in previous api-calling codes but the main difference here is that it has method: 'PUT', which indicates that this is an update function or the U in CRUD. We then do the normal checking of if theres no errors, but now we can customize any information that we want the user to be able to change.  "
   ]
  },
  {
   "cell_type": "markdown",
   "metadata": {},
   "source": [
    "#### Backend"
   ]
  },
  {
   "cell_type": "code",
   "execution_count": null,
   "metadata": {},
   "outputs": [],
   "source": [
    "@token_required\n",
    "def put(self, current_user):\n",
    "    body = request.get_json() # get the body of the request\n",
    "    uid = body.get('uid') # get the UID (Know what to reference)\n",
    "    name = body.get('name') # get name (to change)\n",
    "    password = body.get('password') # get password (to change)\n",
    "    users = User.query.all() # get users\n",
    "    for user in users:\n",
    "        if user.uid == uid: # find user with matching uid\n",
    "            user.update(name,'',password) # update info\n",
    "    return f\"{user.read()} Updated\""
   ]
  },
  {
   "cell_type": "markdown",
   "metadata": {},
   "source": [
    "## Analaysis of Code Above\n",
    "\n",
    "In the code above we have the put function, or the UPDATE method, which will allow us to update the user profile within the database. We first obtain information of details of the user that we want to change such as username, name, and password. We then find the user using their username. and are able to update only the name and password here. "
   ]
  },
  {
   "cell_type": "markdown",
   "metadata": {},
   "source": [
    "## Delete\n",
    "#### Frontend\n",
    "Similarly to put, this code removes the appropriate user from the database"
   ]
  },
  {
   "cell_type": "code",
   "execution_count": null,
   "metadata": {
    "vscode": {
     "languageId": "javascript"
    }
   },
   "outputs": [],
   "source": [
    "function delete_user(){\n",
    "    const body = {\n",
    "      uid: document.getElementById(\"duid\").value,\n",
    "    };\n",
    "    const AuthOptions = {\n",
    "                mode: 'cors', // no-cors, *cors, same-origin\n",
    "                credentials: 'include', // include, same-origin, omit\n",
    "                headers: {\n",
    "                    'Content-Type': 'application/json',\n",
    "                },\n",
    "                method: 'DELETE', // Override the method property\n",
    "                cache: 'no-cache', // Set the cache property\n",
    "                body: JSON.stringify(body)\n",
    "            };\n",
    "      // fetch the API\n",
    "      fetch(url, AuthOptions)\n",
    "        // response is a RESTful \"promise\" on any successful fetch\n",
    "        .then(response => {\n",
    "          // check for response errors and display\n",
    "          if (response.status !== 200) {\n",
    "              window.location.href = \"/csp-blog/403.html\";\n",
    "          }\n",
    "          // valid response will contain JSON data\n",
    "          response.json().then(data => {\n",
    "            window.location.href = \"/csp-blog//log/2024/01/30/Users.html\";\n",
    "          })\n",
    "      })\n",
    "      // catch fetch errors (ie ACCESS to server blocked)\n",
    "      .catch(err => {\n",
    "        console.log(err)\n",
    "      });\n",
    "  }\n",
    "  window.delete_user = delete_user;"
   ]
  },
  {
   "cell_type": "markdown",
   "metadata": {},
   "source": [
    "#### Backend"
   ]
  },
  {
   "cell_type": "code",
   "execution_count": null,
   "metadata": {},
   "outputs": [],
   "source": [
    "def delete(self, id):  # Delete method\n",
    "    #Find user by ID \n",
    "    user = User.query.get(id)\n",
    "    if user is None:\n",
    "        return {'message': f'User with ID {id} not found'}, 404\n",
    "\n",
    "    ''' Delete user '''\n",
    "    user.delete()\n",
    "    return {'message': f'User with ID {id} has been deleted'}"
   ]
  },
  {
   "cell_type": "markdown",
   "metadata": {},
   "source": [
    "## Analysis of Mr. Mortensen's delete function\n",
    "\n",
    "- This code is the delete function and allows us to do the action of removing a user profile and removing a user from the database. In this code, it is able to delete the user using the database ID, which is DIFFERENT from the uid or user id and this value is a number automatically assigned by the database. "
   ]
  },
  {
   "cell_type": "code",
   "execution_count": null,
   "metadata": {},
   "outputs": [],
   "source": [
    "@token_required\n",
    "def delete(self, current_user):\n",
    "    body = request.get_json()\n",
    "    uid = body.get('uid')\n",
    "    users = User.query.all()\n",
    "    for user in users:\n",
    "        if user.uid == uid:\n",
    "            user.delete()\n",
    "    return jsonify(user.read())"
   ]
  },
  {
   "cell_type": "markdown",
   "metadata": {},
   "source": [
    "## Ian Wu's implementation of another delete function(similar to Mr. Mortensen function )\n",
    "\n",
    "- This code is similar to MR mortensens but is different as it deletes based on the uid or username. For example, if I enter the user ID as toby, it will delete the profile of toby instead of I enter the database index of 1. In here, we obtain the JSON of the userID information and then search throughout the database for values that match the inputted USERID and if it matches then we must delete the user that matches it. "
   ]
  },
  {
   "cell_type": "code",
   "execution_count": null,
   "metadata": {},
   "outputs": [],
   "source": [
    "   \n",
    "@token_required\n",
    "def delete(self, current_user):\n",
    "# body = request.get_json()\n",
    "    token = request.cookies.get(\"jwt\")\n",
    "    cur_user= data=jwt.decode(token, current_app.config[\"SECRET_KEY\"], algorithms=[\"HS256\"])['_uid']\n",
    "    users = User.query.all()\n",
    "    for user in users:\n",
    "        if user.uid==cur_user: # modified with the and user.id==cur_user so random users can't delete other ppl\n",
    "            user.delete()\n",
    "    return jsonify(user.read())"
   ]
  },
  {
   "cell_type": "markdown",
   "metadata": {},
   "source": [
    "## Tarun Jaikumar's implementation of yet another delete function(similar to Mr. Mortensen function)\n",
    "\n",
    "- This code is similar to MR mortensen and Ian's function but is a much bigger jump as now it does not take any input on how to delete the user. Instead of taking input, such as username or database index, we now make it such that the user can only delete their own account and not others. I, Tarun Jaikumar, believed that this implementation might be more applicable for web applications as generally a user shouldn't be able to delete other people's account but other implementations defintely are still accurate and work. For some more in-depth analysis, the cur_user variable includes information of the current user trying to call the delete method and the next few lines search the database and check which one is the current user's spot, so it can then delete it. "
   ]
  },
  {
   "cell_type": "markdown",
   "metadata": {},
   "source": [
    "## Frontend Delete code\n",
    "\n",
    "#### Note that this code is for tarun's implementation and has been tested nuemrous times on his laptop and reviewed by peers "
   ]
  },
  {
   "cell_type": "markdown",
   "metadata": {},
   "source": [
    "\n",
    "<script>\n",
    "    function deleteUser() {\n",
    "        // You can add your logic for deleting the user here\n",
    "        console.log(\"in function\");\n",
    "        const url = 'http://127.0.0.1:8086/api/users/';\n",
    "        const options = {\n",
    "            mode: 'cors', // no-cors, cors, same-origin\n",
    "            credentials: 'include', // include, same-origin, omit\n",
    "            headers: {\n",
    "                'Content-Type': 'application/json'\n",
    "            },\n",
    "            method: 'DELETE', // Override the method property\n",
    "            cache: 'no-cache', // Set the cache property\n",
    "        };\n",
    "        fetch(url, options)\n",
    "        // response is a RESTful \"promise\" on any successful fetch\n",
    "        .then(response => {\n",
    "            // check for response errors and display\n",
    "            if (response.status !== 200) {\n",
    "                const errorMsg = 'Database response error: ' + response.status;\n",
    "                window.location.href = \"http://127.0.0.1:4200/student/2024/01/31/403error.html\";\n",
    "                console.log(errorMsg);\n",
    "                const tr = document.createElement(\"tr\");\n",
    "                const td = document.createElement(\"td\");\n",
    "                td.innerHTML = errorMsg;\n",
    "                tr.appendChild(td);\n",
    "                resultContainer.appendChild(tr);\n",
    "                return;\n",
    "            }\n",
    "            // valid response will contain JSON data\n",
    "            response.json().then(data => {\n",
    "                console.log(\"worked\");\n",
    "                console.log(data);\n",
    "                 window.location.href = \"http://127.0.0.1:4200/student/2024/01/30/DataTable.html\";\n",
    "            })\n",
    "            // catch fetch errors (i.e., ACCESS to server blocked)\n",
    "            .catch(err => {\n",
    "                console.error(err);\n",
    "                const tr = document.createElement(\"tr\");\n",
    "                const td = document.createElement(\"td\");\n",
    "                td.innerHTML = err + \": \" + url;\n",
    "                tr.appendChild(td);\n",
    "                resultContainer.appendChild(tr);\n",
    "            ;\n",
    "            });\n",
    "        });\n",
    "\n",
    "        \n",
    "    }\n",
    "        \n",
    "</script>"
   ]
  },
  {
   "cell_type": "markdown",
   "metadata": {},
   "source": [
    "## Analysis of the Code(Implementation for Taruns Version of Delete Function)\n",
    "\n",
    "- In this analysis of the frontend code for Tarun's implementation some notable difference include the variable options, which now has method as 'DELETE' indicating that this function calls the D in CRUD or the delete and is used to delete data from a database. "
   ]
  }
 ],
 "metadata": {
  "kernelspec": {
   "display_name": "Python 3 (ipykernel)",
   "language": "python",
   "name": "python3"
  },
  "language_info": {
   "codemirror_mode": {
    "name": "ipython",
    "version": 3
   },
   "file_extension": ".py",
   "mimetype": "text/x-python",
   "name": "python",
   "nbconvert_exporter": "python",
   "pygments_lexer": "ipython3",
   "version": "3.10.6"
  }
 },
 "nbformat": 4,
 "nbformat_minor": 2
}
