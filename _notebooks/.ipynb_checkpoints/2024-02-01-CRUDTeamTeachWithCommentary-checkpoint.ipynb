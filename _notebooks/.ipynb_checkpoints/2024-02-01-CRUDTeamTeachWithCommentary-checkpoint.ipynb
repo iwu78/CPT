{
 "cells": [
  {
   "cell_type": "markdown",
   "metadata": {},
   "source": [
    "---\n",
    "toc: false\n",
    "comments: true\n",
    "layout: post\n",
    "title: Team Teach - Full Stack and User Profile With Commentary\n",
    "description: CRUD backend and frontend, Authentication\n",
    "type: hacks\n",
    "courses: { compsci: {week: 19} }\n",
    "---"
   ]
  },
  {
   "cell_type": "markdown",
   "metadata": {},
   "source": [
    "# CRUD\n",
    "\n",
    "## What is CRUD?\n",
    "\n",
    "CRUD stands for:\n",
    "\n",
    "C-reate: Involves the creation of addition of data to a database. In essence, it \"create\"s entries in databases.\n",
    "\n",
    "R-ead: Involves the retrieval, querying, or \"read\"ing of existing data from a database.\n",
    "\n",
    "U-pdate: Involves the modification or \"update\"ing of existing data in a database. Operation of changing the values of specific fields in a system. \n",
    "\n",
    "D-elete: Involves the removal or \"delete\"ion of existing data from a database. It's the operation of eliminating information from a database.\n",
    "\n",
    "In the past, each function has had its own link to fetch from, but with CRUD all four functions will be under one link, differentiated by the request type most suited for it.\n",
    "Create: POST request, as create operation needs to sent data back to the backend, best suited by post request\n",
    "Read: GET request, as read operation is simple and requires no data to be sent back\n",
    "Update: PUT request, as update requires the user ID of the user being updated, and this can be modified in the URL which PUT requests allow\n",
    "Delete: DELETE request, self explanatory\n",
    "This is simpler and makes fetching less confusing, as everything is done under one link. "
   ]
  },
  {
   "cell_type": "markdown",
   "metadata": {},
   "source": [
    "## Authentication\n",
    "- How users will authenticate to be able to access function that require a token\n",
    "- POST request is sent to backend\n",
    "    - payload contains user ID and password\n",
    "- Backend compares user ID and password, and returns with token if successful\n",
    "- Note that authentication and authorization are two different things\n",
    "    - Authentication is identifying who you are, client saying hi to backend\n",
    "    - Authorization is getting permission to view something, website letting client know that they can view something\n",
    "\n"
   ]
  },
  {
   "cell_type": "markdown",
   "metadata": {},
   "source": [
    "#### Frontend\n",
    "\n",
    "- This section of the frontend(the code below) will mainly be the connection between frontend and backend in which the frontend calls to the api endpoint in the backend for acsess to database and to perform different CRUD operations\n"
   ]
  },
  {
   "cell_type": "code",
   "execution_count": null,
   "metadata": {
    "vscode": {
     "languageId": "javascript"
    }
   },
   "outputs": [],
   "source": [
    "function login_user(){\n",
    "    // Set Authenticate endpoint\n",
    "    const url = 'http://127.0.0.1:8086/api/users/authenticate';\n",
    "\n",
    "    // Set the body of the request to include login data from the DOM\n",
    "    const body = {\n",
    "        uid: document.getElementById(\"uid\").value,\n",
    "        password: document.getElementById(\"password\").value,\n",
    "    };\n",
    "\n",
    "    // Change options according to Authentication requirements\n",
    "    const authOptions = {\n",
    "        mode: 'cors', // no-cors, *cors, same-origin\n",
    "        credentials: 'include', // include, same-origin, omit\n",
    "        headers: {\n",
    "            'Content-Type': 'application/json',\n",
    "        },\n",
    "        method: 'POST', // Override the method property\n",
    "        cache: 'no-cache', // Set the cache property\n",
    "        body: JSON.stringify(body)\n",
    "    };\n",
    "\n",
    "    // Fetch JWT\n",
    "    fetch(url, authOptions)\n",
    "    .then(response => {\n",
    "        // handle error response from Web API\n",
    "        if (!response.ok) {\n",
    "            const errorMsg = 'Login error: ' + response.status;\n",
    "            console.log(errorMsg);\n",
    "            alert(\"Failed Authentication: Credentials Incorrect\")\n",
    "            return;\n",
    "        }\n",
    "        // Success!!!\n",
    "        // Redirect to the database page\n",
    "        window.location.href = \"/csp-blog//log/2024/01/30/Users.html\";\n",
    "    })\n",
    "    // catch fetch errors (ie ACCESS to server blocked)\n",
    "    .catch(err => {\n",
    "        console.error(err);\n",
    "    });\n",
    "}\n",
    "\n",
    "// Attach login_user to the window object, allowing access to form action\n",
    "window.login_user = login_user;"
   ]
  },
  {
   "cell_type": "markdown",
   "metadata": {},
   "source": [
    "### Line(s) by Line tutotorial explanation of code above\n",
    "\n"
   ]
  },
  {
   "cell_type": "markdown",
   "metadata": {
    "vscode": {
     "languageId": "javascript"
    }
   },
   "source": [
    "\n",
    "\n",
    "These are the first few lines and heres what they do:\n",
    "    - First it defines the function as login_user and this is the login button function essentially that is called through your markdown/html code\n",
    "    - The const url is set to be the authenticate URL, which you used in Postman(with this url we will be logged in and obtain a cookie, which will ensure we will have all the acsess we need to things such as a datatable of all users)\n",
    "    - Afterward in the const body variable we see uid: the document.getElementbyID and also the same for password. These 2 lines are just acsessing the text entered in our markdown/html textbox. "
   ]
  }
 ],
 "metadata": {
  "kernelspec": {
   "display_name": "Python 3 (ipykernel)",
   "language": "python",
   "name": "python3"
  },
  "language_info": {
   "codemirror_mode": {
    "name": "ipython",
    "version": 3
   },
   "file_extension": ".py",
   "mimetype": "text/x-python",
   "name": "python",
   "nbconvert_exporter": "python",
   "pygments_lexer": "ipython3",
   "version": "3.10.6"
  }
 },
 "nbformat": 4,
 "nbformat_minor": 2
}
